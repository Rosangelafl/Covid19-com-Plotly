{
  "nbformat": 4,
  "nbformat_minor": 0,
  "metadata": {
    "colab": {
      "name": "podcast.ipynb",
      "provenance": [],
      "collapsed_sections": [],
      "authorship_tag": "ABX9TyNO6HNjghBBBUsQ3DZU+EwH",
      "include_colab_link": true
    },
    "kernelspec": {
      "name": "python3",
      "display_name": "Python 3"
    },
    "language_info": {
      "name": "python"
    }
  },
  "cells": [
    {
      "cell_type": "markdown",
      "metadata": {
        "id": "view-in-github",
        "colab_type": "text"
      },
      "source": [
        "<a href=\"https://colab.research.google.com/github/Rosangelafl/analises_vizPlotly/blob/master/podcast.ipynb\" target=\"_parent\"><img src=\"https://colab.research.google.com/assets/colab-badge.svg\" alt=\"Open In Colab\"/></a>"
      ]
    },
    {
      "cell_type": "code",
      "metadata": {
        "colab": {
          "base_uri": "https://localhost:8080/"
        },
        "id": "PGvv0AyA_KPw",
        "outputId": "d6b8640e-6732-496f-f0e9-36cf5bdebdff"
      },
      "source": [
        "from google.colab import drive\n",
        "drive.mount('/content/drive')"
      ],
      "execution_count": 54,
      "outputs": [
        {
          "output_type": "stream",
          "text": [
            "Drive already mounted at /content/drive; to attempt to forcibly remount, call drive.mount(\"/content/drive\", force_remount=True).\n"
          ],
          "name": "stdout"
        }
      ]
    },
    {
      "cell_type": "code",
      "metadata": {
        "id": "FkY6xfweAPJF"
      },
      "source": [
        "import pandas as pd\n",
        "from pathlib import Path\n",
        "import glob, os\n",
        "\n",
        "pd.set_option('mode.use_inf_as_na', True)\n"
      ],
      "execution_count": 74,
      "outputs": []
    },
    {
      "cell_type": "code",
      "metadata": {
        "id": "Jw8PYvmtAPPX"
      },
      "source": [
        "path = r'/content/drive/MyDrive/podcast_data'\n",
        "all_files = glob.glob(os.path.join(path, \"*.csv\"))\n",
        "\n",
        "li = []\n",
        "\n",
        "for filename in all_files:\n",
        "    df = pd.read_csv(filename, encoding='utf8', index_col=None, low_memory=False, error_bad_lines=False)\n",
        "                   \n",
        "    li.append(df)\n",
        "\n",
        "df = pd.concat(li, axis=0, ignore_index=True, sort=False)"
      ],
      "execution_count": 56,
      "outputs": []
    },
    {
      "cell_type": "code",
      "metadata": {
        "colab": {
          "base_uri": "https://localhost:8080/",
          "height": 204
        },
        "id": "0UuW4ba6APcZ",
        "outputId": "a1d354ff-e1fb-4d3d-d23d-e65acf7ec399"
      },
      "source": [
        "df.head()"
      ],
      "execution_count": 57,
      "outputs": [
        {
          "output_type": "execute_result",
          "data": {
            "text/html": [
              "<div>\n",
              "<style scoped>\n",
              "    .dataframe tbody tr th:only-of-type {\n",
              "        vertical-align: middle;\n",
              "    }\n",
              "\n",
              "    .dataframe tbody tr th {\n",
              "        vertical-align: top;\n",
              "    }\n",
              "\n",
              "    .dataframe thead th {\n",
              "        text-align: right;\n",
              "    }\n",
              "</style>\n",
              "<table border=\"1\" class=\"dataframe\">\n",
              "  <thead>\n",
              "    <tr style=\"text-align: right;\">\n",
              "      <th></th>\n",
              "      <th>podcast_id</th>\n",
              "      <th>category</th>\n",
              "      <th>itunes_id</th>\n",
              "      <th>slug</th>\n",
              "      <th>itunes_url</th>\n",
              "      <th>title</th>\n",
              "      <th>content</th>\n",
              "      <th>rating</th>\n",
              "      <th>author_id</th>\n",
              "      <th>created_at</th>\n",
              "    </tr>\n",
              "  </thead>\n",
              "  <tbody>\n",
              "    <tr>\n",
              "      <th>0</th>\n",
              "      <td>c61aa81c9b929a66f0c1db6cbe5d8548</td>\n",
              "      <td>arts</td>\n",
              "      <td>NaN</td>\n",
              "      <td>NaN</td>\n",
              "      <td>NaN</td>\n",
              "      <td>NaN</td>\n",
              "      <td>NaN</td>\n",
              "      <td>NaN</td>\n",
              "      <td>NaN</td>\n",
              "      <td>NaN</td>\n",
              "    </tr>\n",
              "    <tr>\n",
              "      <th>1</th>\n",
              "      <td>c61aa81c9b929a66f0c1db6cbe5d8548</td>\n",
              "      <td>arts-performing-arts</td>\n",
              "      <td>NaN</td>\n",
              "      <td>NaN</td>\n",
              "      <td>NaN</td>\n",
              "      <td>NaN</td>\n",
              "      <td>NaN</td>\n",
              "      <td>NaN</td>\n",
              "      <td>NaN</td>\n",
              "      <td>NaN</td>\n",
              "    </tr>\n",
              "    <tr>\n",
              "      <th>2</th>\n",
              "      <td>c61aa81c9b929a66f0c1db6cbe5d8548</td>\n",
              "      <td>music</td>\n",
              "      <td>NaN</td>\n",
              "      <td>NaN</td>\n",
              "      <td>NaN</td>\n",
              "      <td>NaN</td>\n",
              "      <td>NaN</td>\n",
              "      <td>NaN</td>\n",
              "      <td>NaN</td>\n",
              "      <td>NaN</td>\n",
              "    </tr>\n",
              "    <tr>\n",
              "      <th>3</th>\n",
              "      <td>ad4f2bf69c72b8db75978423c25f379e</td>\n",
              "      <td>arts</td>\n",
              "      <td>NaN</td>\n",
              "      <td>NaN</td>\n",
              "      <td>NaN</td>\n",
              "      <td>NaN</td>\n",
              "      <td>NaN</td>\n",
              "      <td>NaN</td>\n",
              "      <td>NaN</td>\n",
              "      <td>NaN</td>\n",
              "    </tr>\n",
              "    <tr>\n",
              "      <th>4</th>\n",
              "      <td>ad4f2bf69c72b8db75978423c25f379e</td>\n",
              "      <td>arts-design</td>\n",
              "      <td>NaN</td>\n",
              "      <td>NaN</td>\n",
              "      <td>NaN</td>\n",
              "      <td>NaN</td>\n",
              "      <td>NaN</td>\n",
              "      <td>NaN</td>\n",
              "      <td>NaN</td>\n",
              "      <td>NaN</td>\n",
              "    </tr>\n",
              "  </tbody>\n",
              "</table>\n",
              "</div>"
            ],
            "text/plain": [
              "                         podcast_id              category  ...  author_id created_at\n",
              "0  c61aa81c9b929a66f0c1db6cbe5d8548                  arts  ...        NaN        NaN\n",
              "1  c61aa81c9b929a66f0c1db6cbe5d8548  arts-performing-arts  ...        NaN        NaN\n",
              "2  c61aa81c9b929a66f0c1db6cbe5d8548                 music  ...        NaN        NaN\n",
              "3  ad4f2bf69c72b8db75978423c25f379e                  arts  ...        NaN        NaN\n",
              "4  ad4f2bf69c72b8db75978423c25f379e           arts-design  ...        NaN        NaN\n",
              "\n",
              "[5 rows x 10 columns]"
            ]
          },
          "metadata": {
            "tags": []
          },
          "execution_count": 57
        }
      ]
    },
    {
      "cell_type": "code",
      "metadata": {
        "id": "lab4ddsnjGxV"
      },
      "source": [
        "df.dropna(subset=['category'], inplace=True)"
      ],
      "execution_count": 58,
      "outputs": []
    },
    {
      "cell_type": "code",
      "metadata": {
        "id": "eKY57WNbAPhi"
      },
      "source": [
        "podcast = df[['podcast_id', 'category','rating']]"
      ],
      "execution_count": 59,
      "outputs": []
    },
    {
      "cell_type": "code",
      "metadata": {
        "colab": {
          "base_uri": "https://localhost:8080/",
          "height": 204
        },
        "id": "ZpeedsnHAPrc",
        "outputId": "0186c5e3-1e28-47bf-a4f2-e3fe2ac0f5a0"
      },
      "source": [
        "podcast.head()"
      ],
      "execution_count": 60,
      "outputs": [
        {
          "output_type": "execute_result",
          "data": {
            "text/html": [
              "<div>\n",
              "<style scoped>\n",
              "    .dataframe tbody tr th:only-of-type {\n",
              "        vertical-align: middle;\n",
              "    }\n",
              "\n",
              "    .dataframe tbody tr th {\n",
              "        vertical-align: top;\n",
              "    }\n",
              "\n",
              "    .dataframe thead th {\n",
              "        text-align: right;\n",
              "    }\n",
              "</style>\n",
              "<table border=\"1\" class=\"dataframe\">\n",
              "  <thead>\n",
              "    <tr style=\"text-align: right;\">\n",
              "      <th></th>\n",
              "      <th>podcast_id</th>\n",
              "      <th>category</th>\n",
              "      <th>rating</th>\n",
              "    </tr>\n",
              "  </thead>\n",
              "  <tbody>\n",
              "    <tr>\n",
              "      <th>0</th>\n",
              "      <td>c61aa81c9b929a66f0c1db6cbe5d8548</td>\n",
              "      <td>arts</td>\n",
              "      <td>NaN</td>\n",
              "    </tr>\n",
              "    <tr>\n",
              "      <th>1</th>\n",
              "      <td>c61aa81c9b929a66f0c1db6cbe5d8548</td>\n",
              "      <td>arts-performing-arts</td>\n",
              "      <td>NaN</td>\n",
              "    </tr>\n",
              "    <tr>\n",
              "      <th>2</th>\n",
              "      <td>c61aa81c9b929a66f0c1db6cbe5d8548</td>\n",
              "      <td>music</td>\n",
              "      <td>NaN</td>\n",
              "    </tr>\n",
              "    <tr>\n",
              "      <th>3</th>\n",
              "      <td>ad4f2bf69c72b8db75978423c25f379e</td>\n",
              "      <td>arts</td>\n",
              "      <td>NaN</td>\n",
              "    </tr>\n",
              "    <tr>\n",
              "      <th>4</th>\n",
              "      <td>ad4f2bf69c72b8db75978423c25f379e</td>\n",
              "      <td>arts-design</td>\n",
              "      <td>NaN</td>\n",
              "    </tr>\n",
              "  </tbody>\n",
              "</table>\n",
              "</div>"
            ],
            "text/plain": [
              "                         podcast_id              category  rating\n",
              "0  c61aa81c9b929a66f0c1db6cbe5d8548                  arts     NaN\n",
              "1  c61aa81c9b929a66f0c1db6cbe5d8548  arts-performing-arts     NaN\n",
              "2  c61aa81c9b929a66f0c1db6cbe5d8548                 music     NaN\n",
              "3  ad4f2bf69c72b8db75978423c25f379e                  arts     NaN\n",
              "4  ad4f2bf69c72b8db75978423c25f379e           arts-design     NaN"
            ]
          },
          "metadata": {
            "tags": []
          },
          "execution_count": 60
        }
      ]
    },
    {
      "cell_type": "code",
      "metadata": {
        "colab": {
          "base_uri": "https://localhost:8080/"
        },
        "id": "fH2mNE4GkFDD",
        "outputId": "c43c1c2a-d828-4c1d-d11b-46594e96cc63"
      },
      "source": [
        "podcast.info()"
      ],
      "execution_count": 61,
      "outputs": [
        {
          "output_type": "stream",
          "text": [
            "<class 'pandas.core.frame.DataFrame'>\n",
            "Int64Index: 70983 entries, 0 to 70982\n",
            "Data columns (total 3 columns):\n",
            " #   Column      Non-Null Count  Dtype  \n",
            "---  ------      --------------  -----  \n",
            " 0   podcast_id  70983 non-null  object \n",
            " 1   category    70983 non-null  object \n",
            " 2   rating      0 non-null      float64\n",
            "dtypes: float64(1), object(2)\n",
            "memory usage: 2.2+ MB\n"
          ],
          "name": "stdout"
        }
      ]
    },
    {
      "cell_type": "code",
      "metadata": {
        "colab": {
          "base_uri": "https://localhost:8080/"
        },
        "id": "la0QFOclIvnX",
        "outputId": "434eb555-5885-47c9-b9af-b7c3205018c6"
      },
      "source": [
        "podcast.isnull().sum()"
      ],
      "execution_count": 62,
      "outputs": [
        {
          "output_type": "execute_result",
          "data": {
            "text/plain": [
              "podcast_id        0\n",
              "category          0\n",
              "rating        70983\n",
              "dtype: int64"
            ]
          },
          "metadata": {
            "tags": []
          },
          "execution_count": 62
        }
      ]
    },
    {
      "cell_type": "code",
      "metadata": {
        "colab": {
          "base_uri": "https://localhost:8080/"
        },
        "id": "1JPQji_pIvto",
        "outputId": "ff8cba3a-b08e-4192-bd60-a89ad51de8fb"
      },
      "source": [
        "podcast.shape"
      ],
      "execution_count": 63,
      "outputs": [
        {
          "output_type": "execute_result",
          "data": {
            "text/plain": [
              "(70983, 3)"
            ]
          },
          "metadata": {
            "tags": []
          },
          "execution_count": 63
        }
      ]
    },
    {
      "cell_type": "code",
      "metadata": {
        "id": "ms56zYomIv5O",
        "colab": {
          "base_uri": "https://localhost:8080/"
        },
        "outputId": "cceb9d1a-aa55-4e0d-a15a-d56e00464f4e"
      },
      "source": [
        "podcast.category.value_counts()"
      ],
      "execution_count": 64,
      "outputs": [
        {
          "output_type": "execute_result",
          "data": {
            "text/plain": [
              "society-culture                      10072\n",
              "comedy                                8080\n",
              "religion-spirituality                 7587\n",
              "business                              6208\n",
              "arts                                  5575\n",
              "education                             5332\n",
              "tv-film                               5128\n",
              "christianity                          4996\n",
              "music                                 4123\n",
              "technology                            2328\n",
              "society-culture-personal-journals     1668\n",
              "kids-family                           1657\n",
              "business-careers                      1399\n",
              "spirituality                          1152\n",
              "arts-performing-arts                  1078\n",
              "society-culture-places-travel          831\n",
              "society-culture-philosophy             765\n",
              "business-investing                     714\n",
              "arts-visual-arts                       710\n",
              "arts-food                              606\n",
              "arts-design                            348\n",
              "arts-fashion-beauty                    248\n",
              "judaism                                148\n",
              "islam                                  120\n",
              "buddhism                                89\n",
              "hinduism                                21\n",
              "Name: category, dtype: int64"
            ]
          },
          "metadata": {
            "tags": []
          },
          "execution_count": 64
        }
      ]
    },
    {
      "cell_type": "code",
      "metadata": {
        "id": "oYx5ZSVNIwIA",
        "colab": {
          "base_uri": "https://localhost:8080/"
        },
        "outputId": "2c4e4e04-e421-4964-c4e6-0f9495b5f618"
      },
      "source": [
        "!pip install --upgrade plotly"
      ],
      "execution_count": 69,
      "outputs": [
        {
          "output_type": "stream",
          "text": [
            "Requirement already satisfied: plotly in /usr/local/lib/python3.7/dist-packages (5.1.0)\n",
            "Requirement already satisfied: six in /usr/local/lib/python3.7/dist-packages (from plotly) (1.15.0)\n",
            "Requirement already satisfied: tenacity>=6.2.0 in /usr/local/lib/python3.7/dist-packages (from plotly) (8.0.1)\n"
          ],
          "name": "stdout"
        }
      ]
    },
    {
      "cell_type": "code",
      "metadata": {
        "colab": {
          "base_uri": "https://localhost:8080/",
          "height": 17
        },
        "id": "0rPhX2Uskbjx",
        "outputId": "bc0f9211-c95e-4ead-ecd0-f539b7a88e0c"
      },
      "source": [
        "import plotly.offline as py\n",
        "import plotly.graph_objs as go\n",
        "py.init_notebook_mode(connected=True)"
      ],
      "execution_count": 70,
      "outputs": [
        {
          "output_type": "display_data",
          "data": {
            "text/html": [
              "        <script type=\"text/javascript\">\n",
              "        window.PlotlyConfig = {MathJaxConfig: 'local'};\n",
              "        if (window.MathJax) {MathJax.Hub.Config({SVG: {font: \"STIX-Web\"}});}\n",
              "        if (typeof require !== 'undefined') {\n",
              "        require.undef(\"plotly\");\n",
              "        requirejs.config({\n",
              "            paths: {\n",
              "                'plotly': ['https://cdn.plot.ly/plotly-latest.min']\n",
              "            }\n",
              "        });\n",
              "        require(['plotly'], function(Plotly) {\n",
              "            window._Plotly = Plotly;\n",
              "        });\n",
              "        }\n",
              "        </script>\n",
              "        "
            ]
          },
          "metadata": {
            "tags": []
          }
        }
      ]
    },
    {
      "cell_type": "code",
      "metadata": {
        "id": "E6zUjZGEkhv0"
      },
      "source": [
        "import plotly.io as pio\n",
        "pio.renderers\n",
        "pio.renderers.default = \"colab\""
      ],
      "execution_count": 71,
      "outputs": []
    },
    {
      "cell_type": "code",
      "metadata": {
        "id": "M3FEVC4bIwM1"
      },
      "source": [
        "#pd.options.plotting.backend = 'plotly'"
      ],
      "execution_count": 75,
      "outputs": []
    },
    {
      "cell_type": "code",
      "metadata": {
        "id": "8f9enc6DIwS4",
        "colab": {
          "base_uri": "https://localhost:8080/",
          "height": 281
        },
        "outputId": "2c4a8f0d-2ef3-48eb-cc26-07052cf0310a"
      },
      "source": [
        "fig = podcast.category.value_counts().sort_values(ascending=True).plot(kind='barh', title='Podcasts na iTunes por categoria')"
      ],
      "execution_count": 76,
      "outputs": [
        {
          "output_type": "display_data",
          "data": {
            "image/png": "[encoded data removed]",
            "text/plain": [
              "<Figure size 432x288 with 1 Axes>"
            ]
          },
          "metadata": {
            "tags": [],
            "needs_background": "light"
          }
        }
      ]
    },
    {
      "cell_type": "code",
      "metadata": {
        "colab": {
          "base_uri": "https://localhost:8080/"
        },
        "id": "88KTWw58qaYJ",
        "outputId": "dddad351-cc36-476e-a11f-6de2035f0549"
      },
      "source": [
        "fig"
      ],
      "execution_count": 77,
      "outputs": [
        {
          "output_type": "execute_result",
          "data": {
            "text/plain": [
              "<matplotlib.axes._subplots.AxesSubplot at 0x7fc41b0a54d0>"
            ]
          },
          "metadata": {
            "tags": []
          },
          "execution_count": 77
        }
      ]
    },
    {
      "cell_type": "code",
      "metadata": {
        "colab": {
          "base_uri": "https://localhost:8080/"
        },
        "id": "QcqXRBS56of8",
        "outputId": "e3fcafad-c299-4d8b-e798-a055502c8d62"
      },
      "source": [
        "podcast.groupby(by='category')['rating'].size()"
      ],
      "execution_count": 79,
      "outputs": [
        {
          "output_type": "execute_result",
          "data": {
            "text/plain": [
              "category\n",
              "arts                                  5575\n",
              "arts-design                            348\n",
              "arts-fashion-beauty                    248\n",
              "arts-food                              606\n",
              "arts-performing-arts                  1078\n",
              "arts-visual-arts                       710\n",
              "buddhism                                89\n",
              "business                              6208\n",
              "business-careers                      1399\n",
              "business-investing                     714\n",
              "christianity                          4996\n",
              "comedy                                8080\n",
              "education                             5332\n",
              "hinduism                                21\n",
              "islam                                  120\n",
              "judaism                                148\n",
              "kids-family                           1657\n",
              "music                                 4123\n",
              "religion-spirituality                 7587\n",
              "society-culture                      10072\n",
              "society-culture-personal-journals     1668\n",
              "society-culture-philosophy             765\n",
              "society-culture-places-travel          831\n",
              "spirituality                          1152\n",
              "technology                            2328\n",
              "tv-film                               5128\n",
              "Name: rating, dtype: int64"
            ]
          },
          "metadata": {
            "tags": []
          },
          "execution_count": 79
        }
      ]
    },
    {
      "cell_type": "code",
      "metadata": {
        "id": "GSjS3aiQqLWo",
        "colab": {
          "base_uri": "https://localhost:8080/",
          "height": 281
        },
        "outputId": "c68fee51-ad67-486e-b2ce-e04df0c895ae"
      },
      "source": [
        "fig2 = podcast.groupby(by='category')['rating'].size().sort_values(ascending=True).plot(kind='barh', title='Podcasts na iTunes por quantidade de avaliações')"
      ],
      "execution_count": null,
      "outputs": [
        {
          "output_type": "display_data",
          "data": {
            "image/png": "[encoded data removed]",
            "text/plain": [
              "<Figure size 432x288 with 1 Axes>"
            ]
          },
          "metadata": {
            "tags": [],
            "needs_background": "light"
          }
        }
      ]
    },
    {
      "cell_type": "code",
      "metadata": {
        "colab": {
          "base_uri": "https://localhost:8080/"
        },
        "id": "57a1dusasD-f",
        "outputId": "cca6462d-695a-4f21-8ddd-5a260d802e93"
      },
      "source": [
        "fig2"
      ],
      "execution_count": null,
      "outputs": [
        {
          "output_type": "execute_result",
          "data": {
            "text/plain": [
              "<matplotlib.axes._subplots.AxesSubplot at 0x7fc41b751a90>"
            ]
          },
          "metadata": {
            "tags": []
          },
          "execution_count": 51
        }
      ]
    },
    {
      "cell_type": "code",
      "metadata": {
        "colab": {
          "base_uri": "https://localhost:8080/"
        },
        "id": "goh3u2thpNM2",
        "outputId": "421bcd32-cdb7-4c7b-fef8-e81f5c2defa3"
      },
      "source": [
        "!pip install chart_studio"
      ],
      "execution_count": null,
      "outputs": [
        {
          "output_type": "stream",
          "text": [
            "Collecting chart_studio\n",
            "  Downloading chart_studio-1.1.0-py3-none-any.whl (64 kB)\n",
            "\u001b[?25l\r\u001b[K     |█████                           | 10 kB 24.0 MB/s eta 0:00:01\r\u001b[K     |██████████▏                     | 20 kB 30.2 MB/s eta 0:00:01\r\u001b[K     |███████████████▎                | 30 kB 33.4 MB/s eta 0:00:01\r\u001b[K     |████████████████████▍           | 40 kB 35.2 MB/s eta 0:00:01\r\u001b[K     |█████████████████████████▍      | 51 kB 32.0 MB/s eta 0:00:01\r\u001b[K     |██████████████████████████████▌ | 61 kB 28.4 MB/s eta 0:00:01\r\u001b[K     |████████████████████████████████| 64 kB 2.7 MB/s \n",
            "\u001b[?25hRequirement already satisfied: requests in /usr/local/lib/python3.7/dist-packages (from chart_studio) (2.23.0)\n",
            "Requirement already satisfied: plotly in /usr/local/lib/python3.7/dist-packages (from chart_studio) (5.1.0)\n",
            "Requirement already satisfied: six in /usr/local/lib/python3.7/dist-packages (from chart_studio) (1.15.0)\n",
            "Requirement already satisfied: retrying>=1.3.3 in /usr/local/lib/python3.7/dist-packages (from chart_studio) (1.3.3)\n",
            "Requirement already satisfied: tenacity>=6.2.0 in /usr/local/lib/python3.7/dist-packages (from plotly->chart_studio) (8.0.1)\n",
            "Requirement already satisfied: urllib3!=1.25.0,!=1.25.1,<1.26,>=1.21.1 in /usr/local/lib/python3.7/dist-packages (from requests->chart_studio) (1.24.3)\n",
            "Requirement already satisfied: certifi>=2017.4.17 in /usr/local/lib/python3.7/dist-packages (from requests->chart_studio) (2021.5.30)\n",
            "Requirement already satisfied: chardet<4,>=3.0.2 in /usr/local/lib/python3.7/dist-packages (from requests->chart_studio) (3.0.4)\n",
            "Requirement already satisfied: idna<3,>=2.5 in /usr/local/lib/python3.7/dist-packages (from requests->chart_studio) (2.10)\n",
            "Installing collected packages: chart-studio\n",
            "Successfully installed chart-studio-1.1.0\n"
          ],
          "name": "stdout"
        }
      ]
    },
    {
      "cell_type": "code",
      "metadata": {
        "id": "bYl29gqtpNaa"
      },
      "source": [
        "import chart_studio\n",
        "import chart_studio.plotly as cs_py\n"
      ],
      "execution_count": 81,
      "outputs": []
    },
    {
      "cell_type": "code",
      "metadata": {
        "id": "e8ML8neH7Zj_"
      },
      "source": [
        "#https://plotly.com/~Rosangelafl/36/"
      ],
      "execution_count": 85,
      "outputs": []
    },
    {
      "cell_type": "code",
      "metadata": {
        "id": "c_GTK8XvpNlI"
      },
      "source": [
        "#https://plotly.com/~Rosangelafl/34/"
      ],
      "execution_count": null,
      "outputs": []
    },
    {
      "cell_type": "code",
      "metadata": {
        "id": "4QPNcZkKpNwD"
      },
      "source": [
        ""
      ],
      "execution_count": null,
      "outputs": []
    }
  ]
}